{
 "cells": [
  {
   "cell_type": "code",
   "execution_count": 1,
   "metadata": {
    "collapsed": false
   },
   "outputs": [
    {
     "name": "stdout",
     "output_type": "stream",
     "text": [
      "Make sure you run the following command with correct caffe-install/ path before this!\n",
      "setenv LD_LIBRARY_PATH $HOME/caffe-install/lib:/usr/local/cuda/lib64:/usr/local/cuda/lib\n",
      "setenv PYTHONPATH $HOME/caffe-install/lib:$HOME/caffe-install/python\n",
      "[ 0.31243601  0.23797253  0.12387213  0.10075719  0.07095687  0.05399767\n",
      "  0.01448441  0.01132185  0.00632901  0.00618931]\n",
      "[281 282 285 277 287 278 283 876 280 259]\n",
      "['n02123045 tabby, tabby cat' 'n02123159 tiger cat'\n",
      " 'n02124075 Egyptian cat' 'n02119022 red fox, Vulpes vulpes'\n",
      " 'n02127052 lynx, catamount' 'n02119789 kit fox, Vulpes macrotis'\n",
      " 'n02123394 Persian cat' 'n04493381 tub, vat'\n",
      " 'n02120505 grey fox, gray fox, Urocyon cinereoargenteus'\n",
      " 'n02112018 Pomeranian']\n"
     ]
    }
   ],
   "source": [
    "import caffe_classifier as mc\n",
    "\n",
    "clsr=mc.caffe_classifier()\n",
    "scores, numbers, labels=clsr.get_class_by_file('cat.jpg')\n",
    "\n",
    "print scores\n",
    "print numbers\n",
    "print labels"
   ]
  },
  {
   "cell_type": "code",
   "execution_count": null,
   "metadata": {
    "collapsed": true
   },
   "outputs": [],
   "source": [
    "help "
   ]
  },
  {
   "cell_type": "code",
   "execution_count": 2,
   "metadata": {
    "collapsed": false
   },
   "outputs": [
    {
     "name": "stdout",
     "output_type": "stream",
     "text": [
      "Help on function open in module PIL.Image:\n",
      "\n",
      "open(fp, mode='r')\n",
      "    Opens and identifies the given image file.\n",
      "    \n",
      "    This is a lazy operation; this function identifies the file, but\n",
      "    the file remains open and the actual image data is not read from\n",
      "    the file until you try to process the data (or call the\n",
      "    :py:meth:`~PIL.Image.Image.load` method).  See\n",
      "    :py:func:`~PIL.Image.new`.\n",
      "    \n",
      "    :param fp: A filename (string), pathlib.Path object or a file object.\n",
      "       The file object must implement :py:meth:`~file.read`,\n",
      "       :py:meth:`~file.seek`, and :py:meth:`~file.tell` methods,\n",
      "       and be opened in binary mode.\n",
      "    :param mode: The mode.  If given, this argument must be \"r\".\n",
      "    :returns: An :py:class:`~PIL.Image.Image` object.\n",
      "    :exception IOError: If the file cannot be found, or the image cannot be\n",
      "       opened and identified.\n",
      "\n"
     ]
    }
   ],
   "source": [
    "import Image\n",
    "help(Image.open)"
   ]
  },
  {
   "cell_type": "code",
   "execution_count": null,
   "metadata": {
    "collapsed": true
   },
   "outputs": [],
   "source": []
  }
 ],
 "metadata": {
  "kernelspec": {
   "display_name": "Python 2",
   "language": "python",
   "name": "python2"
  },
  "language_info": {
   "codemirror_mode": {
    "name": "ipython",
    "version": 2
   },
   "file_extension": ".py",
   "mimetype": "text/x-python",
   "name": "python",
   "nbconvert_exporter": "python",
   "pygments_lexer": "ipython2",
   "version": "2.7.6"
  }
 },
 "nbformat": 4,
 "nbformat_minor": 0
}
